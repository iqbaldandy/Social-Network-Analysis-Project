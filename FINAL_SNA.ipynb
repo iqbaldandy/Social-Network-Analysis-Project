{
  "nbformat": 4,
  "nbformat_minor": 0,
  "metadata": {
    "colab": {
      "name": "FINAL SNA.ipynb",
      "provenance": []
    },
    "kernelspec": {
      "name": "python3",
      "display_name": "Python 3"
    }
  },
  "cells": [
    {
      "cell_type": "markdown",
      "metadata": {
        "id": "hlgMDHKBLenr"
      },
      "source": [
        "FINDING INFLUENTIAL USER WITH DEGREE CENTRALITY"
      ]
    },
    {
      "cell_type": "code",
      "metadata": {
        "id": "JCTbFnrmkif3"
      },
      "source": [
        "import networkx as nx\n",
        "import pandas as pd\n",
        "import csv\n",
        "import json\n",
        "import matplotlib.pyplot as plt\n",
        "import matplotlib.colors as mcolors\n",
        "import numpy as np"
      ],
      "execution_count": null,
      "outputs": []
    },
    {
      "cell_type": "markdown",
      "metadata": {
        "id": "oE_zrk0hmMBv"
      },
      "source": [
        "**DATA PREPARATION**"
      ]
    },
    {
      "cell_type": "markdown",
      "metadata": {
        "id": "s6GtP7YBmoRI"
      },
      "source": [
        "Extracting Retweets"
      ]
    },
    {
      "cell_type": "code",
      "metadata": {
        "id": "TSupnGmNlUtt"
      },
      "source": [
        "#Data crawled with GET TAGS, using \"#ReformasiDiKorupsi\" as a search value\n",
        "tweetfile = 'Crawling.xlsx'\n",
        "\n",
        "tweets = pd.read_excel(tweetfile)"
      ],
      "execution_count": null,
      "outputs": []
    },
    {
      "cell_type": "code",
      "metadata": {
        "id": "-hRXoX24mX6P"
      },
      "source": [
        "# Export edges from Retweets\n",
        "\n",
        "tweets['retweets'] = tweets['text'].str.extract('RT @([a-zA-Z0-9]\\w{0,}):', expand=True)\n",
        "\n",
        "edges = tweets[['from_user', 'retweets','created_at']]\n",
        "edges.columns = ['Source', 'Target', 'Strength']"
      ],
      "execution_count": null,
      "outputs": []
    },
    {
      "cell_type": "code",
      "metadata": {
        "id": "UOxZxLPOmYlY"
      },
      "source": [
        "strengthLevel = 2  # Network connection strength level: the number of times in total each of the tweeters responded to or mentioned the other.\n",
        "\n",
        "edges2 = edges.groupby(['Source','Target'])['Strength'].count()\n",
        "edges2 = edges2.reset_index()\n",
        "edges2 = edges2[edges2['Strength'] >= strengthLevel]"
      ],
      "execution_count": null,
      "outputs": []
    },
    {
      "cell_type": "code",
      "metadata": {
        "id": "Spz5WnWAmjln"
      },
      "source": [
        "# Export nodes from the edges and add node attributes for both Sources and Targets.\n",
        "\n",
        "users = tweets[['from_user','user_followers_count','user_friends_count']]\n",
        "users = users.sort_values(['from_user','user_followers_count'], ascending=[True, False])\n",
        "users = users.drop_duplicates(['from_user'], keep='first') \n",
        "\n",
        "ids = edges2['Source'].append(edges2['Target']).to_frame()\n",
        "ids['Label'] = ids\n",
        "ids.columns = ['from_user', 'Label']\n",
        "ids = ids.drop_duplicates(['from_user'], keep='first') \n",
        "nodes = pd.merge(ids, users, on='from_user', how='left')"
      ],
      "execution_count": null,
      "outputs": []
    },
    {
      "cell_type": "code",
      "metadata": {
        "id": "qlGkHd1fsj6z"
      },
      "source": [
        "edges2.columns = ['Source','Target','Strength']\n",
        "nodes.columns = ['Id', 'Label', 'user_followers_count', 'user_friends_count']"
      ],
      "execution_count": null,
      "outputs": []
    },
    {
      "cell_type": "code",
      "metadata": {
        "id": "eIFQiOnFmuGW"
      },
      "source": [
        "# Export edges to csv files\n",
        "edges.to_csv('edges_retweets_for_dc.csv', encoding='utf-8', index=False)\n",
        "edges2.to_csv('edges_retweets_for_visualization.csv', encoding='utf-8', index=False)"
      ],
      "execution_count": null,
      "outputs": []
    },
    {
      "cell_type": "markdown",
      "metadata": {
        "id": "JmbuNAF_n_kK"
      },
      "source": [
        "Extracting Mentions"
      ]
    },
    {
      "cell_type": "code",
      "metadata": {
        "id": "hX1HLgzIoERG"
      },
      "source": [
        "tweetfile = 'Crawling.xlsx'\n",
        "\n",
        "tweets = pd.read_excel(tweetfile)"
      ],
      "execution_count": null,
      "outputs": []
    },
    {
      "cell_type": "code",
      "metadata": {
        "id": "efeeMJRWohC5"
      },
      "source": [
        "# Export edges from Mentions\n",
        "mentions = tweets[tweets['entities_str'].notnull()]\n",
        "\n",
        "edges = pd.DataFrame(columns=('Source','Target','Strength'))\n",
        "\n",
        "for index, row in mentions.iterrows():\n",
        "    json_acceptable_string = row['entities_str'].replace(\"''\", \"\\\"\")\n",
        "    d = json.loads(json_acceptable_string)\n",
        "    mention_list = d['user_mentions']\n",
        "    for mention in mention_list:\n",
        "        edges = edges.append(pd.DataFrame([[row['from_user'],\n",
        "                                        mention['screen_name'],\n",
        "                                        row['created_at']]]\n",
        "                                        , columns=('Source','Target','Strength')), ignore_index=True)"
      ],
      "execution_count": null,
      "outputs": []
    },
    {
      "cell_type": "code",
      "metadata": {
        "id": "Nthje441ojTN"
      },
      "source": [
        "strengthLevel = 2  # Network connection strength level: the number of times in total each of the tweeters responded to or mentioned the other.\n",
        "\n",
        "edges2 = edges.groupby(['Source','Target'])['Strength'].count()\n",
        "edges2 = edges2.reset_index()\n",
        "edges2 = edges2[edges2['Strength'] >= strengthLevel]"
      ],
      "execution_count": null,
      "outputs": []
    },
    {
      "cell_type": "code",
      "metadata": {
        "id": "mQlNJcgNomsq"
      },
      "source": [
        "# Export nodes from the edges and add node attributes for both Sources and Targets.\n",
        "\n",
        "users = tweets[['from_user','user_followers_count', 'user_friends_count']]\n",
        "users = users.sort_values(['from_user','user_followers_count'], ascending=[True, False])\n",
        "users = users.drop_duplicates(['from_user'], keep='first') \n",
        "\n",
        "ids = edges2['Source'].append(edges2['Target']).to_frame()\n",
        "ids['Label'] = ids\n",
        "ids.columns = ['from_user', 'Label']\n",
        "ids = ids.drop_duplicates(['from_user'], keep='first') \n",
        "nodes = pd.merge(ids, users, on='from_user', how='left')"
      ],
      "execution_count": null,
      "outputs": []
    },
    {
      "cell_type": "code",
      "metadata": {
        "id": "MSzDORfkoo5s"
      },
      "source": [
        "edges2.columns = ['From','To','Date']\n",
        "nodes.columns = ['Id', 'Label', 'user_followers_count', 'user_friends_count']"
      ],
      "execution_count": null,
      "outputs": []
    },
    {
      "cell_type": "code",
      "metadata": {
        "id": "xvvfeg8xrraE"
      },
      "source": [
        "# Export edges to csv files\n",
        "edges.to_csv('edges_mentions_for_dc.csv', encoding='utf-8', index=False)\n",
        "edges2.to_csv('edges_mentions_for_visualization.csv', encoding='utf-8', index=False)"
      ],
      "execution_count": null,
      "outputs": []
    },
    {
      "cell_type": "markdown",
      "metadata": {
        "id": "4dzSNqnPr5k5"
      },
      "source": [
        "Extracting Replies"
      ]
    },
    {
      "cell_type": "code",
      "metadata": {
        "id": "cXcLXO7xsGlG"
      },
      "source": [
        "tweetfile = 'Crawling.xlsx'\n",
        "\n",
        "tweets = pd.read_excel(tweetfile)"
      ],
      "execution_count": null,
      "outputs": []
    },
    {
      "cell_type": "code",
      "metadata": {
        "id": "DkW33kIQr8IX"
      },
      "source": [
        "# Export edges from Replies\n",
        "\n",
        "replies = tweets[tweets['in_reply_to_screen_name'].notnull()]\n",
        "\n",
        "edges = replies[['from_user', 'in_reply_to_screen_name','created_at']]\n",
        "edges.columns = ['Source', 'Target', 'Strength']"
      ],
      "execution_count": null,
      "outputs": []
    },
    {
      "cell_type": "code",
      "metadata": {
        "id": "0OQsNZKDsMVj"
      },
      "source": [
        "strengthLevel = 2  # Network connection strength level: the number of times in total each of the tweeters responded to or mentioned the other.\n",
        "\n",
        "edges2 = edges.groupby(['Source','Target'])['Strength'].count()\n",
        "edges2 = edges2.reset_index()\n",
        "edges2 = edges2[edges2['Strength'] >= strengthLevel]"
      ],
      "execution_count": null,
      "outputs": []
    },
    {
      "cell_type": "code",
      "metadata": {
        "id": "gKFHJlHrsQT6"
      },
      "source": [
        "# Export nodes from the edges and add node attributes for both Sources and Targets.\n",
        "\n",
        "users = tweets[['from_user','user_followers_count', 'user_friends_count']]\n",
        "users = users.sort_values(['from_user','user_followers_count'], ascending=[True, False])\n",
        "users = users.drop_duplicates(['from_user'], keep='first') \n",
        "\n",
        "ids = edges2['Source'].append(edges2['Target']).to_frame()\n",
        "ids['Label'] = ids\n",
        "ids.columns = ['from_user', 'Label']\n",
        "ids = ids.drop_duplicates(['from_user'], keep='first') \n",
        "nodes = pd.merge(ids, users, on='from_user', how='left')"
      ],
      "execution_count": null,
      "outputs": []
    },
    {
      "cell_type": "code",
      "metadata": {
        "id": "4Gn_jLqJsUIU"
      },
      "source": [
        "edges2.columns = ['Source','Target','Strength']\n",
        "nodes.columns = ['Id', 'Label', 'user_followers_count', 'user_friends_count']"
      ],
      "execution_count": null,
      "outputs": []
    },
    {
      "cell_type": "code",
      "metadata": {
        "id": "rNtjn0tSsWYy"
      },
      "source": [
        "# Export edges to csv files\n",
        "edges.to_csv('edges_replies_for_dc.csv', encoding='utf-8', index=False)\n",
        "edges2.to_csv('edges_replies_for_visualization.csv', encoding='utf-8', index=False)"
      ],
      "execution_count": null,
      "outputs": []
    },
    {
      "cell_type": "markdown",
      "metadata": {
        "id": "VUoFDJDFx4ee"
      },
      "source": [
        "Combining 3 dataset into 1. to find the total count of connection/edges(retweets,replies,mention) a node(user) has"
      ]
    },
    {
      "cell_type": "code",
      "metadata": {
        "id": "o2TgRWvO0gSu"
      },
      "source": [
        "retweets = pd.read_csv('edges_retweets_for_dc.csv')\n",
        "mentions = pd.read_csv('edges_mentions_for_dc.csv')\n",
        "replies = pd.read_csv('edges_replies_for_dc.csv')\n",
        "\n",
        "retweets_count = retweets['Target'].value_counts().reset_index()\n",
        "mentions_count = mentions['Target'].value_counts().reset_index()\n",
        "replies_count = replies['Target'].value_counts().reset_index()"
      ],
      "execution_count": null,
      "outputs": []
    },
    {
      "cell_type": "code",
      "metadata": {
        "id": "c7-gyEB11XOO"
      },
      "source": [
        "combined = pd.concat([retweets_count, mentions_count, replies_count], ignore_index=True, sort=False)\n",
        "combined.columns = ['user', 'count']"
      ],
      "execution_count": null,
      "outputs": []
    },
    {
      "cell_type": "code",
      "metadata": {
        "id": "KkXQYx-p2Nak"
      },
      "source": [
        "combined.to_excel('combined.xlsx', index = False)"
      ],
      "execution_count": null,
      "outputs": []
    },
    {
      "cell_type": "markdown",
      "metadata": {
        "id": "KoxyTs6QmQP0"
      },
      "source": [
        "Weighting\n",
        "\n",
        "counting the Degree Centrality value"
      ]
    },
    {
      "cell_type": "code",
      "metadata": {
        "id": "I6dg4slbk9cj"
      },
      "source": [
        "dataframe = pd.read_excel('combined.xlsx')"
      ],
      "execution_count": null,
      "outputs": []
    },
    {
      "cell_type": "code",
      "metadata": {
        "id": "TxSZ8A6VlBfi"
      },
      "source": [
        "# Degree Centrality\n",
        "dc = []\n",
        "\n",
        "for i in range(len(dataframe)):\n",
        "  dc.append(dataframe['count'][i]/len(dataframe) - 1)\n",
        "\n",
        "dataframe['Degree Centrality'] =  dc"
      ],
      "execution_count": null,
      "outputs": []
    },
    {
      "cell_type": "code",
      "metadata": {
        "id": "M_xVKpJclGoE"
      },
      "source": [
        "dataframe = dataframe.sort_values('Degree Centrality' ,ascending=False)"
      ],
      "execution_count": null,
      "outputs": []
    },
    {
      "cell_type": "code",
      "metadata": {
        "id": "ah-mGjlNlLGc",
        "colab": {
          "base_uri": "https://localhost:8080/",
          "height": 359
        },
        "outputId": "09d583f1-c167-4dc3-821b-79677f8a31df"
      },
      "source": [
        "# Show top 10 Influential User based on Degree Centrality value\n",
        "dataframe.head(10)"
      ],
      "execution_count": null,
      "outputs": [
        {
          "output_type": "execute_result",
          "data": {
            "text/html": [
              "<div>\n",
              "<style scoped>\n",
              "    .dataframe tbody tr th:only-of-type {\n",
              "        vertical-align: middle;\n",
              "    }\n",
              "\n",
              "    .dataframe tbody tr th {\n",
              "        vertical-align: top;\n",
              "    }\n",
              "\n",
              "    .dataframe thead th {\n",
              "        text-align: right;\n",
              "    }\n",
              "</style>\n",
              "<table border=\"1\" class=\"dataframe\">\n",
              "  <thead>\n",
              "    <tr style=\"text-align: right;\">\n",
              "      <th></th>\n",
              "      <th>user</th>\n",
              "      <th>count</th>\n",
              "      <th>Degree Centrality</th>\n",
              "    </tr>\n",
              "  </thead>\n",
              "  <tbody>\n",
              "    <tr>\n",
              "      <th>17</th>\n",
              "      <td>AksiLangsung</td>\n",
              "      <td>3207</td>\n",
              "      <td>13.445946</td>\n",
              "    </tr>\n",
              "    <tr>\n",
              "      <th>69</th>\n",
              "      <td>febridiansyah</td>\n",
              "      <td>1890</td>\n",
              "      <td>7.513514</td>\n",
              "    </tr>\n",
              "    <tr>\n",
              "      <th>136</th>\n",
              "      <td>maxwalden_</td>\n",
              "      <td>1198</td>\n",
              "      <td>4.396396</td>\n",
              "    </tr>\n",
              "    <tr>\n",
              "      <th>24</th>\n",
              "      <td>anandabadudu</td>\n",
              "      <td>253</td>\n",
              "      <td>0.139640</td>\n",
              "    </tr>\n",
              "    <tr>\n",
              "      <th>28</th>\n",
              "      <td>ansyahad</td>\n",
              "      <td>218</td>\n",
              "      <td>-0.018018</td>\n",
              "    </tr>\n",
              "    <tr>\n",
              "      <th>35</th>\n",
              "      <td>azizdharma</td>\n",
              "      <td>184</td>\n",
              "      <td>-0.171171</td>\n",
              "    </tr>\n",
              "    <tr>\n",
              "      <th>130</th>\n",
              "      <td>M_Asmara1701</td>\n",
              "      <td>176</td>\n",
              "      <td>-0.207207</td>\n",
              "    </tr>\n",
              "    <tr>\n",
              "      <th>213</th>\n",
              "      <td>unang_sunarno</td>\n",
              "      <td>159</td>\n",
              "      <td>-0.283784</td>\n",
              "    </tr>\n",
              "    <tr>\n",
              "      <th>110</th>\n",
              "      <td>kamalbukankemal</td>\n",
              "      <td>112</td>\n",
              "      <td>-0.495495</td>\n",
              "    </tr>\n",
              "    <tr>\n",
              "      <th>30</th>\n",
              "      <td>AnugrahBadai</td>\n",
              "      <td>91</td>\n",
              "      <td>-0.590090</td>\n",
              "    </tr>\n",
              "  </tbody>\n",
              "</table>\n",
              "</div>"
            ],
            "text/plain": [
              "                user  count  Degree Centrality\n",
              "17      AksiLangsung   3207          13.445946\n",
              "69     febridiansyah   1890           7.513514\n",
              "136       maxwalden_   1198           4.396396\n",
              "24      anandabadudu    253           0.139640\n",
              "28          ansyahad    218          -0.018018\n",
              "35        azizdharma    184          -0.171171\n",
              "130     M_Asmara1701    176          -0.207207\n",
              "213    unang_sunarno    159          -0.283784\n",
              "110  kamalbukankemal    112          -0.495495\n",
              "30      AnugrahBadai     91          -0.590090"
            ]
          },
          "metadata": {
            "tags": []
          },
          "execution_count": 78
        }
      ]
    },
    {
      "cell_type": "code",
      "metadata": {
        "id": "mKlBqpf1Mgvx"
      },
      "source": [
        "# Save result into excel file\n",
        "dataframe.to_excel('result.xlsx', index = False)"
      ],
      "execution_count": null,
      "outputs": []
    },
    {
      "cell_type": "markdown",
      "metadata": {
        "id": "apFS35L86YEi"
      },
      "source": [
        "Visualization"
      ]
    },
    {
      "cell_type": "code",
      "metadata": {
        "id": "gh0LIw6A5_y5"
      },
      "source": [
        "edges_retweet = pd.read_csv('edges_retweets_for_visualization.csv')\n",
        "edges_mention = pd.read_csv('edges_mentions_for_visualization.csv')\n",
        "edges_replies = pd.read_csv('edges_replies_for_visualization.csv')"
      ],
      "execution_count": null,
      "outputs": []
    },
    {
      "cell_type": "code",
      "metadata": {
        "id": "pZ-uyItf6g9t"
      },
      "source": [
        "G = nx.Graph()\n",
        "\n",
        "for i in range(len(edges_retweet)):\n",
        "  G.add_edge(edges_retweet['Source'][i],edges_retweet['Target'][i])\n",
        "\n",
        "for i in range(len(edges_mention)):\n",
        "  G.add_edge(edges_mention['From'][i],edges_mention['To'][i])\n",
        "\n",
        "for i in range(len(edges_replies)):\n",
        "  G.add_edge(edges_replies['Source'][i],edges_replies['Target'][i])"
      ],
      "execution_count": null,
      "outputs": []
    },
    {
      "cell_type": "code",
      "metadata": {
        "id": "K5cArbPv9rsn",
        "colab": {
          "base_uri": "https://localhost:8080/",
          "height": 846
        },
        "outputId": "74dcd9f8-07bf-45c4-c6c5-21bf14aa0681"
      },
      "source": [
        "fig, ax = plt.subplots(figsize=(15,15))\n",
        "degrees = G.degree() #Dict with Node ID, Degree\n",
        "nodes = G.nodes()\n",
        "n_color = np.asarray([degrees[n] for n in nodes])\n",
        "nx.spring_layout(G,k=0.05)\n",
        "sc = nx.draw(G, nodelist=nodes, node_color=n_color, cmap='viridis', with_labels=False, ax=ax, node_size=30,width=0.5)\n",
        "plt.axis('equal')\n",
        "plt.show()"
      ],
      "execution_count": null,
      "outputs": [
        {
          "output_type": "display_data",
          "data": {
            "image/png": "[encoded data removed]",
            "text/plain": [
              "<Figure size 1080x1080 with 1 Axes>"
            ]
          },
          "metadata": {
            "tags": []
          }
        }
      ]
    }
  ]
}